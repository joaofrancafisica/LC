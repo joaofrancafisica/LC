{
 "cells": [
  {
   "cell_type": "code",
   "execution_count": 1,
   "metadata": {},
   "outputs": [],
   "source": [
    "from astropy.time import Time #to time converting\n",
    "from astropy import units #time correction\n",
    "from astropy.coordinates import SkyCoord #time correction\n",
    "import math #to convertion calculus\n",
    "import numpy as np\n",
    "import os.path\n",
    "from tabulate import tabulate\n",
    "from sklearn.gaussian_process import GaussianProcessRegressor\n",
    "from sklearn.gaussian_process.kernels import RBF, WhiteKernel\n",
    "import sncosmo"
   ]
  },
  {
   "cell_type": "code",
   "execution_count": 2,
   "metadata": {},
   "outputs": [],
   "source": [
    "def radec_to_xyz(ra, dec):\n",
    "    x = math.cos(np.deg2rad(dec)) * math.cos(np.deg2rad(ra))\n",
    "    y = math.cos(np.deg2rad(dec)) * math.sin(np.deg2rad(ra))\n",
    "    z = math.sin(np.deg2rad(dec))\n",
    "\n",
    "    return np.array([x, y, z], dtype=np.float64)\n",
    "\n",
    "#functions from sncosmo\n",
    "def cmb_dz(ra, dec):\n",
    "    \"\"\"See http://arxiv.org/pdf/astro-ph/9609034\n",
    "     CMBcoordsRA = 167.98750000 # J2000 Lineweaver\n",
    "     CMBcoordsDEC = -7.22000000\n",
    "    \"\"\"\n",
    "\n",
    "    # J2000 coords from NED\n",
    "    CMB_DZ = 371000. / 299792458.\n",
    "    CMB_RA = 168.01190437\n",
    "    CMB_DEC = -6.98296811\n",
    "    CMB_XYZ = radec_to_xyz(CMB_RA, CMB_DEC)\n",
    "\n",
    "    coords_xyz = radec_to_xyz(ra, dec)\n",
    "    \n",
    "    dz = CMB_DZ * np.dot(CMB_XYZ, coords_xyz)\n",
    "\n",
    "    return dz\n",
    "\n",
    "def cmb_to_helio(z, ra, dec):\n",
    "    \"\"\"Convert from CMB-frame redshift to heliocentric redshift.\n",
    "    \n",
    "    Parameters\n",
    "    ----------\n",
    "    z : float\n",
    "        CMB-frame redshift.\n",
    "    ra, dec: float\n",
    "        RA and Declination in degrees (J2000).\n",
    "    \"\"\"\n",
    "\n",
    "    dz = -cmb_dz(ra, dec)\n",
    "    one_plus_z_pec = math.sqrt((1. + dz) / (1. - dz))\n",
    "    one_plus_z_helio = (1. + z) * one_plus_z_pec\n",
    "\n",
    "    return one_plus_z_helio - 1."
   ]
  },
  {
   "cell_type": "code",
   "execution_count": 3,
   "metadata": {},
   "outputs": [],
   "source": [
    "kernel = 0.5 * (RBF(length_scale=5, length_scale_bounds=(1, 10)) + WhiteKernel(noise_level=0.1, noise_level_bounds=(1e-5,0.5)))"
   ]
  },
  {
   "cell_type": "code",
   "execution_count": 4,
   "metadata": {},
   "outputs": [],
   "source": [
    "#time, flux, flux error and bands\n",
    "x = []\n",
    "zb = []\n",
    "zberr = []\n",
    "zg = []\n",
    "zgerr = []\n",
    "zr = []\n",
    "zrerr = []\n",
    "zi = []\n",
    "zierr = []"
   ]
  },
  {
   "cell_type": "code",
   "execution_count": 5,
   "metadata": {},
   "outputs": [],
   "source": [
    "#reading the file\n",
    "file = open(\"SN2007jgopt+nir_photo.dat\")\n",
    "lines = file.readlines()\n",
    "file.close()\n",
    "\n",
    "for line in lines:\n",
    "    if line.startswith('#'): continue\n",
    "    co=line.rstrip().replace('INDEF','Nan').split()\n",
    "\n",
    "    #nome.append(co[])\n",
    "    #band.append(co[1])\n",
    "    x.append(co[0])\n",
    "    \n",
    "    zb.append(co[3])\n",
    "    zberr.append(co[4])\n",
    "    \n",
    "    zg.append(co[7])\n",
    "    zgerr.append(co[8])\n",
    "    \n",
    "    zr.append(co[9])\n",
    "    zrerr.append(co[10])\n",
    "    \n",
    "    zi.append(co[11])\n",
    "    zierr.append(co[12])\n",
    "    \n",
    "x = [float(i) for i in x]\n",
    "\n",
    "zb = [float(i) for i in zb]\n",
    "zberr = [float(i) for i in zberr]\n",
    "\n",
    "zg = [float(i) for i in zg]\n",
    "zgerr = [float(i) for i in zgerr]\n",
    "\n",
    "zr = [float(i) for i in zr]\n",
    "zrerr = [float(i) for i in zrerr]\n",
    "\n",
    "zi = [float(i) for i in zi]\n",
    "zierr = [float(i) for i in zierr]"
   ]
  },
  {
   "cell_type": "code",
   "execution_count": 6,
   "metadata": {},
   "outputs": [],
   "source": [
    "zcmb = float(lines[2][9:17])"
   ]
  },
  {
   "cell_type": "code",
   "execution_count": 7,
   "metadata": {},
   "outputs": [],
   "source": [
    "ra = lines[2][24:35]"
   ]
  },
  {
   "cell_type": "code",
   "execution_count": 8,
   "metadata": {},
   "outputs": [],
   "source": [
    "dec = lines[2][43:55]"
   ]
  },
  {
   "cell_type": "code",
   "execution_count": 9,
   "metadata": {},
   "outputs": [
    {
     "data": {
      "text/plain": [
       "' 03:29:50.8'"
      ]
     },
     "execution_count": 9,
     "metadata": {},
     "output_type": "execute_result"
    }
   ],
   "source": [
    "ra"
   ]
  },
  {
   "cell_type": "code",
   "execution_count": 10,
   "metadata": {},
   "outputs": [
    {
     "data": {
      "text/plain": [
       "' +00:03:24.6'"
      ]
     },
     "execution_count": 10,
     "metadata": {},
     "output_type": "execute_result"
    }
   ],
   "source": [
    "dec"
   ]
  },
  {
   "cell_type": "code",
   "execution_count": 11,
   "metadata": {},
   "outputs": [],
   "source": [
    "c = SkyCoord(str(ra), str(dec), unit=(units.hourangle, units.hourangle))"
   ]
  },
  {
   "cell_type": "code",
   "execution_count": 12,
   "metadata": {},
   "outputs": [],
   "source": [
    "zhelio = cmb_to_helio(zcmb, c.ra.deg, c.dec.deg)"
   ]
  },
  {
   "cell_type": "code",
   "execution_count": 13,
   "metadata": {},
   "outputs": [],
   "source": [
    "xb = []\n",
    "zbmod = []\n",
    "zberrmod = []\n",
    "\n",
    "xg = []\n",
    "zgmod = []\n",
    "zgerrmod = []\n",
    "\n",
    "xr = []\n",
    "zrmod = []\n",
    "zrerrmod = []\n",
    "\n",
    "xi = []\n",
    "zimod = []\n",
    "zierrmod = []"
   ]
  },
  {
   "cell_type": "code",
   "execution_count": 14,
   "metadata": {},
   "outputs": [],
   "source": [
    "for i in range(0, len(x)):\n",
    "    \n",
    "    if zb[i] != 99.900:\n",
    "        \n",
    "        xb.append([x[i]])\n",
    "        zbmod.append(zb[i])\n",
    "        zberrmod.append(zberr[i])\n",
    "        \n",
    "    if zg[i] != 99.900:\n",
    "        \n",
    "        xg.append([x[i]])\n",
    "        zgmod.append(zg[i])\n",
    "        zgerrmod.append(zgerr[i])\n",
    "\n",
    "    if zr[i] != 99.900:\n",
    "        \n",
    "        xr.append([x[i]])\n",
    "        zrmod.append(zr[i])\n",
    "        zrerrmod.append(zrerr[i])\n",
    "        \n",
    "    if zi[i] != 99.900:\n",
    "        \n",
    "        xi.append([x[i]])\n",
    "        zimod.append(zi[i])\n",
    "        zierrmod.append(zierr[i])"
   ]
  },
  {
   "cell_type": "code",
   "execution_count": 15,
   "metadata": {},
   "outputs": [],
   "source": [
    "csp = sncosmo.get_magsystem('csp')"
   ]
  },
  {
   "cell_type": "code",
   "execution_count": 16,
   "metadata": {},
   "outputs": [],
   "source": [
    "for i in range(0,len(xb)):\n",
    "    \n",
    "    #flux = 10**((14.328 - zbmod[i])/2.5)\n",
    "    flux = csp.band_mag_to_flux(zbmod[i], 'cspb')\n",
    "    zbmod[i] = flux\n",
    "    zberrmod[i] = flux*zberrmod[i]*np.log(10)/2.5"
   ]
  },
  {
   "cell_type": "code",
   "execution_count": 17,
   "metadata": {},
   "outputs": [],
   "source": [
    "for i in range(0,len(xg)):\n",
    "    \n",
    "    #flux = 10**((15.111 - zgmod[i])/2.5)\n",
    "    flux = csp.band_mag_to_flux(zgmod[i], 'cspg')\n",
    "    zgmod[i] = flux\n",
    "    zgerrmod[i] = flux*zgerrmod[i]*np.log(10)/2.5"
   ]
  },
  {
   "cell_type": "code",
   "execution_count": 18,
   "metadata": {},
   "outputs": [],
   "source": [
    "for i in range(0,len(xr)):\n",
    "    \n",
    "    #flux = 10**((14.902 - zrmod[i])/2.5)\n",
    "    flux = csp.band_mag_to_flux(zrmod[i], 'cspr')\n",
    "    zrmod[i] = flux\n",
    "    zrerrmod[i] = flux*zrerrmod[i]*np.log(10)/2.5"
   ]
  },
  {
   "cell_type": "code",
   "execution_count": 19,
   "metadata": {},
   "outputs": [],
   "source": [
    "for i in range(0,len(xi)):\n",
    "    \n",
    "    #flux = 10**((14.545 - zimod[i])/2.5)\n",
    "    flux = csp.band_mag_to_flux(zimod[i], 'cspi')\n",
    "    zimod[i] = flux\n",
    "    zierrmod[i] = flux*zierrmod[i]*np.log(10)/2.5"
   ]
  },
  {
   "cell_type": "code",
   "execution_count": 20,
   "metadata": {},
   "outputs": [],
   "source": [
    "table = []"
   ]
  },
  {
   "cell_type": "code",
   "execution_count": 21,
   "metadata": {},
   "outputs": [
    {
     "name": "stdout",
     "output_type": "stream",
     "text": [
      "30\n"
     ]
    }
   ],
   "source": [
    "X_data = np.linspace(min(xb)[0], max(xb)[0], 610)\n",
    "gp = GaussianProcessRegressor(kernel=kernel, alpha=0.0).fit(xb, zbmod)\n",
    "y_mean = gp.predict(X_data[:, np.newaxis])    \n",
    "\n",
    "\n",
    "pos_max = y_mean.tolist().index(max(y_mean))\n",
    "print(pos_max)\n",
    "t0_max = X_data[pos_max]\n",
    "    \n",
    "for i in range(0,len(xb)):  \n",
    "    \n",
    "    if -5 < xb[i] - t0_max < 45:\n",
    "    \n",
    "        table.append((xb[i][0], \"cspb\", zbmod[i], zberrmod[i], 0, \"csp\", zhelio))"
   ]
  },
  {
   "cell_type": "code",
   "execution_count": 22,
   "metadata": {},
   "outputs": [
    {
     "name": "stdout",
     "output_type": "stream",
     "text": [
      "32\n"
     ]
    }
   ],
   "source": [
    "X_data = np.linspace(min(xg)[0], max(xg)[0], 610)\n",
    "gp = GaussianProcessRegressor(kernel=kernel, alpha=0.0).fit(xg, zgmod)\n",
    "y_mean = gp.predict(X_data[:, np.newaxis])    \n",
    "\n",
    "pos_max = y_mean.tolist().index(max(y_mean))\n",
    "print(pos_max)\n",
    "t0_max = X_data[pos_max]\n",
    "    \n",
    "for i in range(0,len(xg)):  \n",
    "    \n",
    "    if -5 < xg[i] - t0_max < 45:\n",
    "    \n",
    "        table.append((xg[i][0], \"cspg\", zgmod[i], zgerrmod[i], 0, \"csp\", zhelio))"
   ]
  },
  {
   "cell_type": "code",
   "execution_count": 23,
   "metadata": {},
   "outputs": [
    {
     "name": "stdout",
     "output_type": "stream",
     "text": [
      "48\n"
     ]
    }
   ],
   "source": [
    "X_data = np.linspace(min(xr)[0], max(xr)[0], 610)\n",
    "gp = GaussianProcessRegressor(kernel=kernel, alpha=0.0).fit(xr, zrmod)\n",
    "y_mean = gp.predict(X_data[:, np.newaxis])    \n",
    "\n",
    "pos_max = y_mean.tolist().index(max(y_mean))\n",
    "print(pos_max)\n",
    "t0_max = X_data[pos_max]\n",
    "    \n",
    "for i in range(0,len(xr)):  \n",
    "    \n",
    "    if -5 < xr[i] - t0_max < 45:\n",
    "    \n",
    "        table.append((xr[i][0], \"cspr\", zrmod[i], zrerrmod[i], 0, \"csp\", zhelio))"
   ]
  },
  {
   "cell_type": "code",
   "execution_count": 24,
   "metadata": {},
   "outputs": [
    {
     "name": "stdout",
     "output_type": "stream",
     "text": [
      "0\n"
     ]
    }
   ],
   "source": [
    "X_data = np.linspace(min(xi)[0], max(xi)[0], 610)\n",
    "gp = GaussianProcessRegressor(kernel=kernel, alpha=0.0).fit(xi, zimod)\n",
    "y_mean = gp.predict(X_data[:, np.newaxis])    \n",
    "\n",
    "pos_max = y_mean.tolist().index(max(y_mean))\n",
    "print(pos_max)\n",
    "t0_max = X_data[pos_max]\n",
    "    \n",
    "for i in range(0,len(xi)):  \n",
    "    \n",
    "    if -5 < xi[i] - t0_max < 45:\n",
    "    \n",
    "        table.append((xi[i][0], \"cspi\", zimod[i], zierrmod[i], 0, \"csp\", zhelio))"
   ]
  },
  {
   "cell_type": "code",
   "execution_count": 25,
   "metadata": {},
   "outputs": [],
   "source": [
    "save_path = '/home/joao/Documentos/LC/'"
   ]
  },
  {
   "cell_type": "code",
   "execution_count": 26,
   "metadata": {},
   "outputs": [],
   "source": [
    "name_of_file = \"SN2007jg\"\n",
    "\n",
    "completeName = os.path.join(save_path, name_of_file+\".txt\")    \n",
    "\n",
    "header = \"#time    band  flux        fluxerr      zp     zpsys redshift\"\n",
    "\n",
    "f = open(completeName, 'w')               \n",
    "f.write(header + \"\\n\")\n",
    "f.write(tabulate(table, tablefmt=\"plain\"))\n",
    "f.close()"
   ]
  },
  {
   "cell_type": "code",
   "execution_count": 27,
   "metadata": {},
   "outputs": [
    {
     "data": {
      "text/plain": [
       "0.03712857164683747"
      ]
     },
     "execution_count": 27,
     "metadata": {},
     "output_type": "execute_result"
    }
   ],
   "source": [
    "zhelio"
   ]
  },
  {
   "cell_type": "code",
   "execution_count": null,
   "metadata": {},
   "outputs": [],
   "source": []
  }
 ],
 "metadata": {
  "kernelspec": {
   "display_name": "Python 3",
   "language": "python",
   "name": "python3"
  },
  "language_info": {
   "codemirror_mode": {
    "name": "ipython",
    "version": 3
   },
   "file_extension": ".py",
   "mimetype": "text/x-python",
   "name": "python",
   "nbconvert_exporter": "python",
   "pygments_lexer": "ipython3",
   "version": "3.8.2"
  }
 },
 "nbformat": 4,
 "nbformat_minor": 4
}
