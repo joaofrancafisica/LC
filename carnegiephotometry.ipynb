{
 "cells": [
  {
   "cell_type": "code",
   "execution_count": 1,
   "metadata": {},
   "outputs": [],
   "source": [
    "import numpy as np\n",
    "import sncosmo"
   ]
  },
  {
   "cell_type": "code",
   "execution_count": 2,
   "metadata": {},
   "outputs": [],
   "source": [
    "file = open(\"SN_photo.dat\")\n",
    "lines = file.readlines()\n",
    "file.close()"
   ]
  },
  {
   "cell_type": "code",
   "execution_count": 3,
   "metadata": {},
   "outputs": [],
   "source": [
    "names = []\n",
    "band = []\n",
    "time = []\n",
    "mag = []\n",
    "emag = []"
   ]
  },
  {
   "cell_type": "code",
   "execution_count": 4,
   "metadata": {},
   "outputs": [],
   "source": [
    "for line in lines:\n",
    "    if line.startswith('#'): continue\n",
    "    co=line.rstrip().replace('INDEF','Nan').split()\n",
    "\n",
    "    names.append(co[0])\n",
    "    band.append(co[1])\n",
    "    time.append(co[2])\n",
    "    mag.append(co[3])\n",
    "    emag.append(co[4])"
   ]
  },
  {
   "cell_type": "code",
   "execution_count": 5,
   "metadata": {},
   "outputs": [],
   "source": [
    "time = np.array(time, dtype=float)\n",
    "mag = np.array(mag, dtype=float)\n",
    "emag = np.array(emag, dtype=float)"
   ]
  },
  {
   "cell_type": "code",
   "execution_count": 6,
   "metadata": {},
   "outputs": [],
   "source": [
    "bandtemp = []\n",
    "timetemp = []\n",
    "magtemp = []\n",
    "emagtemp = []"
   ]
  },
  {
   "cell_type": "code",
   "execution_count": 7,
   "metadata": {},
   "outputs": [],
   "source": [
    "for i in range(0,len(names)):\n",
    "    \n",
    "    if names[i] == \"SN2004eo\":\n",
    "        \n",
    "        if band[i] == \"B\" or band[i] == \"g\" or band[i] == \"i\" or band[i] == \"r\" or band[i] == \"V\":  \n",
    "        \n",
    "            bandtemp.append(band[i])\n",
    "            timetemp.append(time[i])\n",
    "            magtemp.append(mag[i])\n",
    "            emagtemp.append(emag[i])"
   ]
  },
  {
   "cell_type": "code",
   "execution_count": 8,
   "metadata": {},
   "outputs": [],
   "source": [
    "for i in range(0,len(bandtemp)):\n",
    "    \n",
    "    if bandtemp[i] == \"B\":\n",
    "        \n",
    "        bandtemp[i] = \"cspb\"\n",
    "        \n",
    "    if bandtemp[i] == \"g\":\n",
    "        \n",
    "        bandtemp[i] = \"cspg\"\n",
    "        \n",
    "    if bandtemp[i] == \"i\":\n",
    "        \n",
    "        bandtemp[i] = \"cspi\"\n",
    "        \n",
    "    if bandtemp[i] == \"r\":\n",
    "        \n",
    "        bandtemp[i] = \"cspr\"\n",
    "    \n",
    "    if bandtemp[i] == \"V\":\n",
    "        \n",
    "        bandtemp[i] = \"cspv\""
   ]
  },
  {
   "cell_type": "code",
   "execution_count": 9,
   "metadata": {},
   "outputs": [],
   "source": [
    "photoname = \"SN2004eo\"+\"_snpy.txt\""
   ]
  },
  {
   "cell_type": "code",
   "execution_count": 10,
   "metadata": {},
   "outputs": [],
   "source": [
    "file = open(photoname)\n",
    "lines = file.readlines()\n",
    "file.close()"
   ]
  },
  {
   "cell_type": "code",
   "execution_count": 11,
   "metadata": {},
   "outputs": [
    {
     "data": {
      "text/plain": [
       "'SN2004eo 0.015700 308.225792 9.928528\\n'"
      ]
     },
     "execution_count": 11,
     "metadata": {},
     "output_type": "execute_result"
    }
   ],
   "source": [
    "lines[0]"
   ]
  },
  {
   "cell_type": "code",
   "execution_count": 12,
   "metadata": {},
   "outputs": [],
   "source": [
    "redshift = float(lines[0][9:-23])"
   ]
  },
  {
   "cell_type": "code",
   "execution_count": 13,
   "metadata": {},
   "outputs": [],
   "source": [
    "#zp = float(lines[0][29:-2])"
   ]
  },
  {
   "cell_type": "code",
   "execution_count": 14,
   "metadata": {},
   "outputs": [],
   "source": [
    "csp = sncosmo.get_magsystem('csp')"
   ]
  },
  {
   "cell_type": "code",
   "execution_count": 15,
   "metadata": {},
   "outputs": [
    {
     "data": {
      "text/plain": [
       "[17.412,\n",
       " 16.995,\n",
       " 16.636,\n",
       " 15.908,\n",
       " 15.759,\n",
       " 15.639,\n",
       " 15.554,\n",
       " 15.482,\n",
       " 15.385,\n",
       " 15.412,\n",
       " 15.777,\n",
       " 15.864,\n",
       " 15.971,\n",
       " 16.074,\n",
       " 16.187,\n",
       " 16.301,\n",
       " 16.532,\n",
       " 16.644,\n",
       " 16.961,\n",
       " 17.148,\n",
       " 17.242,\n",
       " 17.347,\n",
       " 17.403,\n",
       " 17.483,\n",
       " 17.58,\n",
       " 17.698,\n",
       " 17.78,\n",
       " 17.829,\n",
       " 17.878,\n",
       " 17.921,\n",
       " 17.982,\n",
       " 18.253,\n",
       " 18.356,\n",
       " 18.577,\n",
       " 17.201,\n",
       " 16.825,\n",
       " 16.52,\n",
       " 15.849,\n",
       " 15.71,\n",
       " 15.597,\n",
       " 15.509,\n",
       " 15.448,\n",
       " 15.395,\n",
       " 15.319,\n",
       " 15.323,\n",
       " 15.557,\n",
       " 15.62,\n",
       " 15.689,\n",
       " 15.742,\n",
       " 15.784,\n",
       " 15.826,\n",
       " 15.894,\n",
       " 15.924,\n",
       " 16.021,\n",
       " 16.098,\n",
       " 16.15,\n",
       " 16.191,\n",
       " 16.258,\n",
       " 16.313,\n",
       " 16.384,\n",
       " 16.536,\n",
       " 16.619,\n",
       " 16.692,\n",
       " 16.763,\n",
       " 16.829,\n",
       " 16.889,\n",
       " 17.281,\n",
       " 17.534,\n",
       " 17.918,\n",
       " 17.379,\n",
       " 16.984,\n",
       " 16.66,\n",
       " 16.023,\n",
       " 15.903,\n",
       " 15.808,\n",
       " 15.76,\n",
       " 15.731,\n",
       " 15.731,\n",
       " 15.764,\n",
       " 15.801,\n",
       " 15.83,\n",
       " 15.849,\n",
       " 15.864,\n",
       " 15.889,\n",
       " 16.134,\n",
       " 16.19,\n",
       " 16.226,\n",
       " 16.252,\n",
       " 16.253,\n",
       " 16.246,\n",
       " 16.213,\n",
       " 16.209,\n",
       " 16.19,\n",
       " 16.206,\n",
       " 16.231,\n",
       " 16.239,\n",
       " 16.254,\n",
       " 16.256,\n",
       " 16.34,\n",
       " 16.458,\n",
       " 16.549,\n",
       " 16.629,\n",
       " 16.712,\n",
       " 16.788,\n",
       " 16.861,\n",
       " 17.314,\n",
       " 17.621,\n",
       " 18.063,\n",
       " 17.586,\n",
       " 17.129,\n",
       " 16.746,\n",
       " 16.459,\n",
       " 16.205,\n",
       " 16.022,\n",
       " 15.869,\n",
       " 15.755,\n",
       " 15.658,\n",
       " 15.584,\n",
       " 15.541,\n",
       " 15.507,\n",
       " 15.493,\n",
       " 15.497,\n",
       " 15.524,\n",
       " 15.566,\n",
       " 16.085,\n",
       " 16.2,\n",
       " 16.323,\n",
       " 16.454,\n",
       " 16.593,\n",
       " 16.727,\n",
       " 16.998,\n",
       " 17.113,\n",
       " 17.471,\n",
       " 17.65,\n",
       " 17.72,\n",
       " 17.805,\n",
       " 17.917,\n",
       " 17.971,\n",
       " 18.009,\n",
       " 18.212,\n",
       " 18.223,\n",
       " 18.293,\n",
       " 18.346,\n",
       " 18.382,\n",
       " 18.883,\n",
       " 18.995]"
      ]
     },
     "execution_count": 15,
     "metadata": {},
     "output_type": "execute_result"
    }
   ],
   "source": [
    "magtemp"
   ]
  },
  {
   "cell_type": "code",
   "execution_count": 16,
   "metadata": {},
   "outputs": [],
   "source": [
    "zptemp = []\n",
    "zpsystemp = []"
   ]
  },
  {
   "cell_type": "code",
   "execution_count": 17,
   "metadata": {},
   "outputs": [],
   "source": [
    "for i in range(0,len(magtemp)):\n",
    "    \n",
    "    if bandtemp[i] == \"cspb\":\n",
    "    \n",
    "        emagtemp[i] = 2*np.log(10)*(10**(14.529 - magtemp[i]))*emagtemp[i]/2.5\n",
    "        zptemp.append(14.529)\n",
    "        zpsystemp.append(\"csp\")\n",
    "    \n",
    "    if bandtemp[i] == \"cspg\":\n",
    "        \n",
    "        emagtemp[i] = 2*np.log(10)*(10**(15.271 - magtemp[i]))*emagtemp[i]/2.5\n",
    "        zptemp.append(15.271)\n",
    "        zpsystemp.append(\"csp\")\n",
    "        \n",
    "    if bandtemp[i] == \"cspi\":\n",
    "        \n",
    "        emagtemp[i] = 2*np.log(10)*(10**(14.767 - magtemp[i]))*emagtemp[i]/2.5\n",
    "        zptemp.append(14.767)\n",
    "        zpsystemp.append(\"csp\")\n",
    "        \n",
    "    if bandtemp[i] == \"cspr\":\n",
    "        \n",
    "        emagtemp[i] = 2*np.log(10)*(10**(14.975 - magtemp[i]))*emagtemp[i]/2.5\n",
    "        zptemp.append(14.975)\n",
    "        zpsystemp.append(\"csp\")\n",
    "        \n",
    "    if bandtemp[i] == \"cspv\":\n",
    "        \n",
    "        emagtemp[i] = 2*np.log(10)*(10**(14.571 - magtemp[i]))*emagtemp[i]/2.5\n",
    "        zptemp.append(14.571)\n",
    "        zpsystemp.append(\"csp\")       \n",
    "        \n",
    "\n",
    "    magtemp[i] = csp.band_mag_to_flux(magtemp[i], bandtemp[i])\n",
    "    "
   ]
  },
  {
   "cell_type": "code",
   "execution_count": 18,
   "metadata": {},
   "outputs": [],
   "source": [
    "redshifttemp = []"
   ]
  },
  {
   "cell_type": "code",
   "execution_count": 19,
   "metadata": {},
   "outputs": [],
   "source": [
    "for i in range(0,len(magtemp)):\n",
    "    \n",
    "    redshifttemp.append(redshift)"
   ]
  },
  {
   "cell_type": "code",
   "execution_count": 20,
   "metadata": {},
   "outputs": [],
   "source": [
    "import os.path \n",
    "from tabulate import tabulate"
   ]
  },
  {
   "cell_type": "code",
   "execution_count": 21,
   "metadata": {},
   "outputs": [],
   "source": [
    "save_path = '/home/joao/Documentos/noname'\n",
    "\n",
    "table = []\n",
    "for i in range(0,len(magtemp)):\n",
    "    \n",
    "    table.append((timetemp[i], bandtemp[i], magtemp[i], emagtemp[i], zptemp[i], zpsystemp[i], redshifttemp[i]))\n",
    "\n",
    "\n",
    "name_of_file = \"SN2004eo\"\n",
    "\n",
    "completeName = os.path.join(save_path, name_of_file+\".txt\")    \n",
    "\n",
    "header = \"time    band  flux        fluxerr      zp     zpsys redshift\"\n",
    "\n",
    "f = open(completeName, 'w')               \n",
    "f.write(header + \"\\n\")\n",
    "f.write(tabulate(table, tablefmt=\"plain\"))\n",
    "f.close()\n"
   ]
  },
  {
   "cell_type": "code",
   "execution_count": 22,
   "metadata": {},
   "outputs": [
    {
     "data": {
      "text/plain": [
       "146"
      ]
     },
     "execution_count": 22,
     "metadata": {},
     "output_type": "execute_result"
    }
   ],
   "source": [
    "len(zpsystemp)"
   ]
  },
  {
   "cell_type": "code",
   "execution_count": null,
   "metadata": {},
   "outputs": [],
   "source": []
  }
 ],
 "metadata": {
  "kernelspec": {
   "display_name": "Python 3",
   "language": "python",
   "name": "python3"
  },
  "language_info": {
   "codemirror_mode": {
    "name": "ipython",
    "version": 3
   },
   "file_extension": ".py",
   "mimetype": "text/x-python",
   "name": "python",
   "nbconvert_exporter": "python",
   "pygments_lexer": "ipython3",
   "version": "3.6.9"
  }
 },
 "nbformat": 4,
 "nbformat_minor": 4
}
