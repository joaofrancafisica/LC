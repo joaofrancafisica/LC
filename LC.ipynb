{
 "cells": [
  {
   "cell_type": "code",
   "execution_count": 1,
   "metadata": {},
   "outputs": [],
   "source": [
    "from iminuit import Minuit\n",
    "import numpy as np"
   ]
  },
  {
   "cell_type": "code",
   "execution_count": 2,
   "metadata": {},
   "outputs": [],
   "source": [
    "%run ./interpfunctions.ipynb"
   ]
  },
  {
   "cell_type": "code",
   "execution_count": 3,
   "metadata": {
    "scrolled": true
   },
   "outputs": [],
   "source": [
    "def data(name):\n",
    "    #name = \"SN2004eo.txt\"\n",
    "\n",
    "    x_dat = []\n",
    "    z_dat = []\n",
    "    z_dat_error = []\n",
    "    bands = []\n",
    "\n",
    "    file = open(name)\n",
    "    lines = file.readlines()\n",
    "    file.close()\n",
    "\n",
    "    for line in lines:\n",
    "        if line.startswith('#'): continue\n",
    "        co=line.rstrip().replace('INDEF','Nan').split()\n",
    "\n",
    "        x_dat.append(co[0])\n",
    "        z_dat.append(co[2])\n",
    "        z_dat_error.append(co[3])\n",
    "        bands.append(co[1])\n",
    "\n",
    "    x_dat = np.array(x_dat, dtype=float)\n",
    "    z_dat = np.array(z_dat, dtype=float)\n",
    "    z_dat_error = np.array(z_dat_error, dtype=float)\n",
    "\n",
    "    redshift = float(co[6])\n",
    "\n",
    "    nonrepeatedbands = list(set(bands))\n",
    "    print(nonrepeatedbands)\n",
    "\n",
    "\n",
    "    interpfunc = []\n",
    "    for i in range(0,len(nonrepeatedbands)):\n",
    "        #print(i)\n",
    "        interpfunc.append(einterpfun(nonrepeatedbands[i]))\n",
    "\n",
    "    #print(\"ok\")\n",
    "    \n",
    "    for i in range(0,len(x_dat)):\n",
    "\n",
    "        x_dat[i] = x_dat[i]*(1+redshift)\n",
    "        z_dat[i] = z_dat[i]*(1+redshift)**3\n",
    "        z_dat_error[i] = z_dat_error[i]*(1+redshift)**3\n",
    "\n",
    "\n",
    "\n",
    "    def chiquadvalue(t0, x0, x1, x2):\n",
    "        \n",
    "        chiquad = 0\n",
    "\n",
    "        for i in range(0,len(nonrepeatedbands)):\n",
    "            #print(i)\n",
    "            x_dat_temp = []\n",
    "            z_dat_temp = []\n",
    "            z_dat_error_temp = []\n",
    "\n",
    "            for j in range(0,len(bands)):\n",
    "\n",
    "                if bands[j] == nonrepeatedbands[i]:\n",
    "                    \n",
    "                    x_dat_temp.append(x_dat[j])\n",
    "                    z_dat_temp.append(z_dat[j])\n",
    "                    z_dat_error_temp.append(z_dat_error[j])\n",
    "\n",
    "            for k in range(0,len(x_dat_temp)):\n",
    "\n",
    "                if -9 < x_dat_temp[k] - 282 < 49:\n",
    "                    \n",
    "                    chiquad += ((x0*(interpfunc[i][0](x_dat_temp[k] - t0) + x1*interpfunc[i][1](x_dat_temp[k] -  t0) + x2*interpfunc[i][2](x_dat_temp[k] -t0)) - z_dat_temp[k])/z_dat_error_temp[k])**2\n",
    "\n",
    "\n",
    "        if chiquad > 0:\n",
    "\n",
    "            return chiquad\n",
    "\n",
    "        else:\n",
    "\n",
    "            return 10**200\n",
    "\n",
    "\n",
    "    max_index = list(z_dat).index(max(z_dat))    \n",
    "    \n",
    "    #print(max_index)\n",
    "    m = Minuit(chiquadvalue, t0 = x_dat[max_index], x0 = 0.1, x1 = 0.01, x2 = 0.001)\n",
    "\n",
    "    m.migrad()\n",
    "\n",
    "    print(m.values) \n",
    "\n",
    "    return m.fval / (len(x_dat) - len(m.values))"
   ]
  },
  {
   "cell_type": "code",
   "execution_count": 4,
   "metadata": {},
   "outputs": [
    {
     "name": "stdout",
     "output_type": "stream",
     "text": [
      "['cspg', 'cspr', 'cspi', 'cspb']\n"
     ]
    },
    {
     "name": "stderr",
     "output_type": "stream",
     "text": [
      "/home/joao/.local/lib/python3.6/site-packages/ipykernel_launcher.py:58: IntegrationWarning: The maximum number of subdivisions (50) has been achieved.\n",
      "  If increasing the limit yields no improvement it is advised to analyze \n",
      "  the integrand in order to determine the difficulties.  If the position of a \n",
      "  local difficulty can be determined (singularity, discontinuity) one will \n",
      "  probably gain from splitting up the interval and calling the integrator \n",
      "  on the subranges.  Perhaps a special-purpose integrator should be used.\n",
      "/home/joao/.local/lib/python3.6/site-packages/ipykernel_launcher.py:77: IntegrationWarning: The maximum number of subdivisions (50) has been achieved.\n",
      "  If increasing the limit yields no improvement it is advised to analyze \n",
      "  the integrand in order to determine the difficulties.  If the position of a \n",
      "  local difficulty can be determined (singularity, discontinuity) one will \n",
      "  probably gain from splitting up the interval and calling the integrator \n",
      "  on the subranges.  Perhaps a special-purpose integrator should be used.\n",
      "/home/joao/.local/lib/python3.6/site-packages/ipykernel_launcher.py:97: IntegrationWarning: The maximum number of subdivisions (50) has been achieved.\n",
      "  If increasing the limit yields no improvement it is advised to analyze \n",
      "  the integrand in order to determine the difficulties.  If the position of a \n",
      "  local difficulty can be determined (singularity, discontinuity) one will \n",
      "  probably gain from splitting up the interval and calling the integrator \n",
      "  on the subranges.  Perhaps a special-purpose integrator should be used.\n",
      "/home/joao/.local/lib/python3.6/site-packages/ipykernel_launcher.py:84: InitialParamWarning: Parameter t0 is floating but does not have initial step size. Assume 1.\n",
      "/home/joao/.local/lib/python3.6/site-packages/ipykernel_launcher.py:84: InitialParamWarning: Parameter x0 is floating but does not have initial step size. Assume 1.\n",
      "/home/joao/.local/lib/python3.6/site-packages/ipykernel_launcher.py:84: InitialParamWarning: Parameter x1 is floating but does not have initial step size. Assume 1.\n",
      "/home/joao/.local/lib/python3.6/site-packages/ipykernel_launcher.py:84: InitialParamWarning: Parameter x2 is floating but does not have initial step size. Assume 1.\n",
      "/home/joao/.local/lib/python3.6/site-packages/ipykernel_launcher.py:84: InitialParamWarning: errordef is not given. Default to 1.\n"
     ]
    },
    {
     "ename": "RuntimeError",
     "evalue": "exception was raised in user function\nUser function arguments:\n    t0 = +284.914007\n    x0 = +0.100000\n    x1 = +0.010000\n    x2 = +0.001000\nOriginal python exception in user function:\nValueError: A value in x_new is below the interpolation range.\n  File \"<ipython-input-3-0f961c25d2d4>\", line 69, in chiquadvalue\n    chiquad += ((x0*(interpfunc[i][0](x_dat_temp[k] - t0) + x1*interpfunc[i][1](x_dat_temp[k] -  t0) + x2*interpfunc[i][2](x_dat_temp[k] -t0)) - z_dat_temp[k])/z_dat_error_temp[k])**2\n  File \"/home/joao/.local/lib/python3.6/site-packages/scipy/interpolate/polyint.py\", line 79, in __call__\n    y = self._evaluate(x)\n  File \"/home/joao/.local/lib/python3.6/site-packages/scipy/interpolate/interpolate.py\", line 663, in _evaluate\n    below_bounds, above_bounds = self._check_bounds(x_new)\n  File \"/home/joao/.local/lib/python3.6/site-packages/scipy/interpolate/interpolate.py\", line 692, in _check_bounds\n    raise ValueError(\"A value in x_new is below the interpolation \"\n",
     "output_type": "error",
     "traceback": [
      "\u001b[0;31m---------------------------------------------------------------------------\u001b[0m",
      "\u001b[0;31mRuntimeError\u001b[0m                              Traceback (most recent call last)",
      "\u001b[0;32m<ipython-input-4-e54087530250>\u001b[0m in \u001b[0;36m<module>\u001b[0;34m\u001b[0m\n\u001b[0;32m----> 1\u001b[0;31m \u001b[0mfunctions\u001b[0m \u001b[0;34m=\u001b[0m \u001b[0mdata\u001b[0m\u001b[0;34m(\u001b[0m\u001b[0;34m\"SN2004eo.txt\"\u001b[0m\u001b[0;34m)\u001b[0m\u001b[0;34m\u001b[0m\u001b[0;34m\u001b[0m\u001b[0m\n\u001b[0m",
      "\u001b[0;32m<ipython-input-3-0f961c25d2d4>\u001b[0m in \u001b[0;36mdata\u001b[0;34m(name)\u001b[0m\n\u001b[1;32m     84\u001b[0m     \u001b[0mm\u001b[0m \u001b[0;34m=\u001b[0m \u001b[0mMinuit\u001b[0m\u001b[0;34m(\u001b[0m\u001b[0mchiquadvalue\u001b[0m\u001b[0;34m,\u001b[0m \u001b[0mt0\u001b[0m \u001b[0;34m=\u001b[0m \u001b[0mx_dat\u001b[0m\u001b[0;34m[\u001b[0m\u001b[0mmax_index\u001b[0m\u001b[0;34m]\u001b[0m\u001b[0;34m,\u001b[0m \u001b[0mx0\u001b[0m \u001b[0;34m=\u001b[0m \u001b[0;36m0.1\u001b[0m\u001b[0;34m,\u001b[0m \u001b[0mx1\u001b[0m \u001b[0;34m=\u001b[0m \u001b[0;36m0.01\u001b[0m\u001b[0;34m,\u001b[0m \u001b[0mx2\u001b[0m \u001b[0;34m=\u001b[0m \u001b[0;36m0.001\u001b[0m\u001b[0;34m)\u001b[0m\u001b[0;34m\u001b[0m\u001b[0;34m\u001b[0m\u001b[0m\n\u001b[1;32m     85\u001b[0m \u001b[0;34m\u001b[0m\u001b[0m\n\u001b[0;32m---> 86\u001b[0;31m     \u001b[0mm\u001b[0m\u001b[0;34m.\u001b[0m\u001b[0mmigrad\u001b[0m\u001b[0;34m(\u001b[0m\u001b[0;34m)\u001b[0m\u001b[0;34m\u001b[0m\u001b[0;34m\u001b[0m\u001b[0m\n\u001b[0m\u001b[1;32m     87\u001b[0m \u001b[0;34m\u001b[0m\u001b[0m\n\u001b[1;32m     88\u001b[0m     \u001b[0mprint\u001b[0m\u001b[0;34m(\u001b[0m\u001b[0mm\u001b[0m\u001b[0;34m.\u001b[0m\u001b[0mvalues\u001b[0m\u001b[0;34m)\u001b[0m\u001b[0;34m\u001b[0m\u001b[0;34m\u001b[0m\u001b[0m\n",
      "\u001b[0;32miminuit/_libiminuit.pyx\u001b[0m in \u001b[0;36miminuit._libiminuit.Minuit.migrad\u001b[0;34m()\u001b[0m\n",
      "\u001b[0;31mRuntimeError\u001b[0m: exception was raised in user function\nUser function arguments:\n    t0 = +284.914007\n    x0 = +0.100000\n    x1 = +0.010000\n    x2 = +0.001000\nOriginal python exception in user function:\nValueError: A value in x_new is below the interpolation range.\n  File \"<ipython-input-3-0f961c25d2d4>\", line 69, in chiquadvalue\n    chiquad += ((x0*(interpfunc[i][0](x_dat_temp[k] - t0) + x1*interpfunc[i][1](x_dat_temp[k] -  t0) + x2*interpfunc[i][2](x_dat_temp[k] -t0)) - z_dat_temp[k])/z_dat_error_temp[k])**2\n  File \"/home/joao/.local/lib/python3.6/site-packages/scipy/interpolate/polyint.py\", line 79, in __call__\n    y = self._evaluate(x)\n  File \"/home/joao/.local/lib/python3.6/site-packages/scipy/interpolate/interpolate.py\", line 663, in _evaluate\n    below_bounds, above_bounds = self._check_bounds(x_new)\n  File \"/home/joao/.local/lib/python3.6/site-packages/scipy/interpolate/interpolate.py\", line 692, in _check_bounds\n    raise ValueError(\"A value in x_new is below the interpolation \"\n"
     ]
    }
   ],
   "source": [
    "functions = data(\"SN2004eo.txt\")"
   ]
  },
  {
   "cell_type": "code",
   "execution_count": null,
   "metadata": {},
   "outputs": [],
   "source": [
    "functions"
   ]
  },
  {
   "cell_type": "code",
   "execution_count": null,
   "metadata": {},
   "outputs": [],
   "source": [
    "x_dat = []\n",
    "z_dat = []\n",
    "z_dat_error = []\n",
    "bands = []\n",
    "\n",
    "file = open(\"SN2004eo.txt\")\n",
    "lines = file.readlines()\n",
    "file.close()\n",
    "\n",
    "for line in lines:\n",
    "    if line.startswith('#'): continue\n",
    "    co=line.rstrip().replace('INDEF','Nan').split()\n",
    "\n",
    "    x_dat.append(co[0])\n",
    "    z_dat.append(co[2])\n",
    "    z_dat_error.append(co[3])\n",
    "    bands.append(co[1])\n",
    "\n",
    "x_dat = np.array(x_dat, dtype=float)\n",
    "z_dat = np.array(z_dat, dtype=float)\n",
    "z_dat_error = np.array(z_dat_error, dtype=float)\n",
    "\n",
    "redshift = float(co[6])\n",
    "\n",
    "for i in range(0,len(x_dat)):\n",
    "\n",
    "    x_dat[i] = x_dat[i]*(1+redshift)\n",
    "    z_dat[i] = z_dat[i]*(1+redshift)**3\n",
    "    z_dat_error[i] = z_dat_error[i]*(1+redshift)**3\n",
    "\n",
    "nonrepeatedbands = list(set(bands))\n",
    "print(nonrepeatedbands)\n",
    "\n",
    "\n",
    "interpfunc = []\n",
    "for i in range(0,len(nonrepeatedbands)):\n",
    "    #print(i)\n",
    "    interpfunc.append(einterpfun(nonrepeatedbands[i]))\n"
   ]
  },
  {
   "cell_type": "code",
   "execution_count": null,
   "metadata": {},
   "outputs": [],
   "source": [
    "nonrepeatedbands"
   ]
  },
  {
   "cell_type": "code",
   "execution_count": null,
   "metadata": {},
   "outputs": [],
   "source": [
    "x_plot = []\n",
    "z_plot = []\n",
    "\n",
    "def theory(tv, x0, x1, x2):\n",
    "    #print(tv, x0, x1, x2)\n",
    "\n",
    "    return x0*(interpfunc[0][0](tv) + x1*interpfunc[0][1](tv) + x2*interpfunc[0][2](tv))\n",
    "\n",
    "for i in range(0,len(x_gr)):\n",
    "\n",
    "    x_plot.append(x_gr[i])\n",
    "    z_plot.append(theory(x_gr[i],  0.04295783596265451, -0.12553189365569511, -0.04596542731094612))\n",
    "\n",
    "x_plot_dat = []\n",
    "z_plot_dat = []\n",
    "z_error_plot_dat = []\n",
    "\n",
    "for i in range(0,len(x_dat)):\n",
    "    \n",
    "    if bands[i] == \"cspi\":\n",
    "        \n",
    "        x_plot_dat.append(x_dat[i]-282.7360965964325)\n",
    "        z_plot_dat.append(z_dat[i])\n",
    "        z_error_plot_dat.append(z_dat_error[i])"
   ]
  },
  {
   "cell_type": "code",
   "execution_count": null,
   "metadata": {},
   "outputs": [],
   "source": [
    "%matplotlib notebook\n",
    "plt.plot(x_plot, z_plot, 'k')\n",
    "plt.errorbar(x_plot_dat, z_plot_dat, yerr=z_error_plot_dat, fmt='.')\n",
    "plt.xlim(-10,50)\n",
    "plt.xlabel(\"tempo\")\n",
    "plt.ylabel(\"contagem/s\")\n",
    "plt.show()"
   ]
  },
  {
   "cell_type": "code",
   "execution_count": null,
   "metadata": {},
   "outputs": [],
   "source": [
    "x_dat"
   ]
  },
  {
   "cell_type": "code",
   "execution_count": null,
   "metadata": {},
   "outputs": [],
   "source": []
  }
 ],
 "metadata": {
  "kernelspec": {
   "display_name": "Python 3",
   "language": "python",
   "name": "python3"
  }
 },
 "nbformat": 4,
 "nbformat_minor": 2
}
