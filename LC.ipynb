{
 "cells": [
  {
   "cell_type": "code",
   "execution_count": null,
   "metadata": {},
   "outputs": [],
   "source": [
    "from iminuit import Minuit\n",
    "import numpy as np"
   ]
  },
  {
   "cell_type": "code",
   "execution_count": null,
   "metadata": {},
   "outputs": [],
   "source": [
    "%run ./interpfunctions.ipynb"
   ]
  },
  {
   "cell_type": "code",
   "execution_count": null,
   "metadata": {
    "scrolled": true
   },
   "outputs": [],
   "source": [
    "def data(name):\n",
    "    #name = \"SN2004eo.txt\"\n",
    "\n",
    "    x_dat = []\n",
    "    z_dat = []\n",
    "    z_dat_error = []\n",
    "    bands = []\n",
    "\n",
    "    file = open(name)\n",
    "    lines = file.readlines()\n",
    "    file.close()\n",
    "\n",
    "    for line in lines:\n",
    "        if line.startswith('#'): continue\n",
    "        co=line.rstrip().replace('INDEF','Nan').split()\n",
    "\n",
    "        x_dat.append(co[0])\n",
    "        z_dat.append(co[2])\n",
    "        z_dat_error.append(co[3])\n",
    "        bands.append(co[1])\n",
    "\n",
    "    x_dat = np.array(x_dat, dtype=float)\n",
    "    z_dat = np.array(z_dat, dtype=float)\n",
    "    z_dat_error = np.array(z_dat_error, dtype=float)\n",
    "\n",
    "    redshift = float(co[6])\n",
    "\n",
    "    nonrepeatedbands = list(set(bands))\n",
    "    print(nonrepeatedbands)\n",
    "\n",
    "\n",
    "    interpfunc = []\n",
    "    for i in range(0,len(nonrepeatedbands)):\n",
    "        #print(i)\n",
    "        interpfunc.append(einterpfun(nonrepeatedbands[i]))\n",
    "\n",
    "    #print(\"ok\")\n",
    "    \n",
    "    for i in range(0,len(x_dat)):\n",
    "\n",
    "        x_dat[i] = x_dat[i]*(1+redshift)\n",
    "        z_dat[i] = z_dat[i]*(1+redshift)**3\n",
    "        z_dat_error[i] = z_dat_error[i]*(1+redshift)**3\n",
    "\n",
    "\n",
    "\n",
    "    def chiquadvalue(t0, x0, x1, x2):\n",
    "        \n",
    "        chiquad = 0\n",
    "\n",
    "        for i in range(0,len(nonrepeatedbands)):\n",
    "            #print(i)\n",
    "            x_dat_temp = []\n",
    "            z_dat_temp = []\n",
    "            z_dat_error_temp = []\n",
    "\n",
    "            for j in range(0,len(bands)):\n",
    "\n",
    "                if bands[j] == nonrepeatedbands[i]:\n",
    "                    \n",
    "                    x_dat_temp.append(x_dat[j])\n",
    "                    z_dat_temp.append(z_dat[j])\n",
    "                    z_dat_error_temp.append(z_dat_error[j])\n",
    "\n",
    "            for k in range(0,len(x_dat_temp)):\n",
    "\n",
    "                if -10 < x_dat_temp[k] - t0 < 50:\n",
    "                    \n",
    "                    chiquad += ((x0*(interpfunc[i][0](x_dat_temp[k] - t0) + x1*interpfunc[i][1](x_dat_temp[k] -  t0) + x2*interpfunc[i][2](x_dat_temp[k] -t0)) - z_dat_temp[k])/z_dat_error_temp[k])**2\n",
    "\n",
    "\n",
    "        if chiquad > 0:\n",
    "\n",
    "            return chiquad\n",
    "\n",
    "        else:\n",
    "\n",
    "            return 10**200\n",
    "\n",
    "\n",
    "    max_index = list(z_dat).index(max(z_dat))    \n",
    "    \n",
    "    #print(max_index)\n",
    "    m = Minuit(chiquadvalue, t0 = x_dat[max_index], x0 = 0.1, x1 = 0.01, x2 = 0.001)\n",
    "\n",
    "    m.migrad()\n",
    "\n",
    "    print(m.values) \n",
    "\n",
    "    return m.fval / (len(x_dat) - len(m.values))"
   ]
  },
  {
   "cell_type": "code",
   "execution_count": null,
   "metadata": {},
   "outputs": [],
   "source": [
    "functions = data(\"SN2004eo.txt\")"
   ]
  },
  {
   "cell_type": "code",
   "execution_count": null,
   "metadata": {},
   "outputs": [],
   "source": [
    "functions"
   ]
  },
  {
   "cell_type": "code",
   "execution_count": null,
   "metadata": {},
   "outputs": [],
   "source": [
    "x_dat = []\n",
    "z_dat = []\n",
    "z_dat_error = []\n",
    "bands = []\n",
    "\n",
    "file = open(\"SN2004eo.txt\")\n",
    "lines = file.readlines()\n",
    "file.close()\n",
    "\n",
    "for line in lines:\n",
    "    if line.startswith('#'): continue\n",
    "    co=line.rstrip().replace('INDEF','Nan').split()\n",
    "\n",
    "    x_dat.append(co[0])\n",
    "    z_dat.append(co[2])\n",
    "    z_dat_error.append(co[3])\n",
    "    bands.append(co[1])\n",
    "\n",
    "x_dat = np.array(x_dat, dtype=float)\n",
    "z_dat = np.array(z_dat, dtype=float)\n",
    "z_dat_error = np.array(z_dat_error, dtype=float)\n",
    "\n",
    "redshift = float(co[6])\n",
    "\n",
    "for i in range(0,len(x_dat)):\n",
    "\n",
    "    x_dat[i] = x_dat[i]*(1+redshift)\n",
    "    z_dat[i] = z_dat[i]*(1+redshift)**3\n",
    "    z_dat_error[i] = z_dat_error[i]*(1+redshift)**3\n",
    "\n",
    "nonrepeatedbands = list(set(bands))\n",
    "print(nonrepeatedbands)\n",
    "\n",
    "\n",
    "interpfunc = []\n",
    "for i in range(0,len(nonrepeatedbands)):\n",
    "    #print(i)\n",
    "    interpfunc.append(einterpfun(nonrepeatedbands[i]))\n"
   ]
  },
  {
   "cell_type": "code",
   "execution_count": null,
   "metadata": {},
   "outputs": [],
   "source": [
    "nonrepeatedbands"
   ]
  },
  {
   "cell_type": "code",
   "execution_count": null,
   "metadata": {},
   "outputs": [],
   "source": [
    "x_plot = []\n",
    "z_plot = []\n",
    "\n",
    "def theory(tv, x0, x1, x2):\n",
    "    #print(tv, x0, x1, x2)\n",
    "\n",
    "    return x0*(interpfunc[0][0](tv) + x1*interpfunc[0][1](tv) + x2*interpfunc[0][2](tv))\n",
    "\n",
    "for i in range(0,len(x_gr)):\n",
    "\n",
    "    x_plot.append(x_gr[i])\n",
    "    z_plot.append(theory(x_gr[i],  0.04295783596265451, -0.12553189365569511, -0.04596542731094612))\n",
    "\n",
    "x_plot_dat = []\n",
    "z_plot_dat = []\n",
    "z_error_plot_dat = []\n",
    "\n",
    "for i in range(0,len(x_dat)):\n",
    "    \n",
    "    if bands[i] == \"cspi\":\n",
    "        \n",
    "        x_plot_dat.append(x_dat[i]-282.7360965964325)\n",
    "        z_plot_dat.append(z_dat[i])\n",
    "        z_error_plot_dat.append(z_dat_error[i])"
   ]
  },
  {
   "cell_type": "code",
   "execution_count": null,
   "metadata": {},
   "outputs": [],
   "source": [
    "%matplotlib notebook\n",
    "plt.plot(x_plot, z_plot, 'k')\n",
    "plt.errorbar(x_plot_dat, z_plot_dat, yerr=z_error_plot_dat, fmt='.')\n",
    "plt.xlim(-10,50)\n",
    "plt.xlabel(\"tempo\")\n",
    "plt.ylabel(\"contagem/s\")\n",
    "plt.show()"
   ]
  },
  {
   "cell_type": "code",
   "execution_count": null,
   "metadata": {},
   "outputs": [],
   "source": [
    "x_dat"
   ]
  },
  {
   "cell_type": "code",
   "execution_count": null,
   "metadata": {},
   "outputs": [],
   "source": []
  }
 ],
 "metadata": {
  "kernelspec": {
   "display_name": "Python 3",
   "language": "python",
   "name": "python3"
  },
  "language_info": {
   "codemirror_mode": {
    "name": "ipython",
    "version": 3
   },
   "file_extension": ".py",
   "mimetype": "text/x-python",
   "name": "python",
   "nbconvert_exporter": "python",
   "pygments_lexer": "ipython3",
   "version": "3.6.9"
  }
 },
 "nbformat": 4,
 "nbformat_minor": 2
}
