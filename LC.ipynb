{
 "cells": [
  {
   "cell_type": "code",
   "execution_count": null,
   "metadata": {},
   "outputs": [],
   "source": [
    "#librarys\n",
    "import matplotlib.pyplot as plt"
   ]
  },
  {
   "cell_type": "code",
   "execution_count": null,
   "metadata": {},
   "outputs": [],
   "source": [
    "#functions used by this script\n",
    "%run ./ChiQuad.ipynb"
   ]
  },
  {
   "cell_type": "markdown",
   "metadata": {},
   "source": [
    "# Name of the file to plot"
   ]
  },
  {
   "cell_type": "code",
   "execution_count": null,
   "metadata": {},
   "outputs": [],
   "source": [
    "#call chiquadfunc\n",
    "values = data(\"SN2004eo.txt\")"
   ]
  },
  {
   "cell_type": "markdown",
   "metadata": {},
   "source": [
    "## function returns"
   ]
  },
  {
   "cell_type": "code",
   "execution_count": null,
   "metadata": {},
   "outputs": [],
   "source": [
    "#chiquad over degree of freedom\n",
    "chiquaddof = values[0]"
   ]
  },
  {
   "cell_type": "code",
   "execution_count": null,
   "metadata": {},
   "outputs": [],
   "source": [
    "#values fitted\n",
    "fitvalues =  values[1]"
   ]
  },
  {
   "cell_type": "code",
   "execution_count": null,
   "metadata": {},
   "outputs": [],
   "source": [
    "#non repeated bands\n",
    "nonbands = values[2]"
   ]
  },
  {
   "cell_type": "code",
   "execution_count": null,
   "metadata": {},
   "outputs": [],
   "source": [
    "#template functions\n",
    "tpfun = values[3]"
   ]
  },
  {
   "cell_type": "code",
   "execution_count": null,
   "metadata": {},
   "outputs": [],
   "source": [
    "#bands\n",
    "bands = values[4]"
   ]
  },
  {
   "cell_type": "code",
   "execution_count": null,
   "metadata": {},
   "outputs": [],
   "source": [
    "#data time, flux and flux error\n",
    "xx = values[5]\n",
    "zz = values[6]\n",
    "ezz = values[7]"
   ]
  },
  {
   "cell_type": "markdown",
   "metadata": {},
   "source": [
    "# Plot data def function"
   ]
  },
  {
   "cell_type": "code",
   "execution_count": null,
   "metadata": {},
   "outputs": [],
   "source": [
    "#function that will return plot data according to band\n",
    "def plot(band):\n",
    "\n",
    "    #band index\n",
    "    bandindex = [j for j, e in enumerate(nonbands) if e == band]\n",
    "    \n",
    "    #template list data plot\n",
    "    x_plot = []\n",
    "    z_plot = []\n",
    "    for i in range(0,len(x_gr)):\n",
    "\n",
    "        x_plot.append(x_gr[i])\n",
    "        z_plot.append(fitvalues[1]*(tpfun[bandindex[0]][0](x_gr[i]) + fitvalues[2]*tpfun[bandindex[0]][1](x_gr[i]) + fitvalues[3]*tpfun[bandindex[0]][2](x_gr[i])))\n",
    "\n",
    "    #real data lists plot\n",
    "    x_plot_dat = []\n",
    "    z_plot_dat = []\n",
    "    z_error_plot_dat = []\n",
    "\n",
    "    for i in range(0,len(xx)):\n",
    "\n",
    "        if bands[i] == band:\n",
    "\n",
    "            x_plot_dat.append(xx[i]-fitvalues[0])\n",
    "            z_plot_dat.append(zz[i])\n",
    "            z_error_plot_dat.append(ezz[i])\n",
    "    \n",
    "    #return template data points and real data plot points\n",
    "    return x_plot, z_plot, x_plot_dat, z_plot_dat, z_error_plot_dat"
   ]
  },
  {
   "cell_type": "markdown",
   "metadata": {},
   "source": [
    "# Choose a band to plot:"
   ]
  },
  {
   "cell_type": "code",
   "execution_count": null,
   "metadata": {},
   "outputs": [],
   "source": [
    "dataplot = plot(\"cspg\")"
   ]
  },
  {
   "cell_type": "code",
   "execution_count": null,
   "metadata": {},
   "outputs": [],
   "source": [
    "%matplotlib notebook\n",
    "plt.plot(dataplot[0], dataplot[1], 'k')\n",
    "plt.errorbar(dataplot[2], dataplot[3], yerr=dataplot[4], fmt='.')\n",
    "plt.xlim(-10,50)\n",
    "plt.xlabel(\"tempo\")\n",
    "plt.ylabel(\"contagem/s\")\n",
    "plt.show()"
   ]
  },
  {
   "cell_type": "code",
   "execution_count": null,
   "metadata": {},
   "outputs": [],
   "source": []
  }
 ],
 "metadata": {
  "kernelspec": {
   "display_name": "Python 3",
   "language": "python",
   "name": "python3"
  },
  "language_info": {
   "codemirror_mode": {
    "name": "ipython",
    "version": 3
   },
   "file_extension": ".py",
   "mimetype": "text/x-python",
   "name": "python",
   "nbconvert_exporter": "python",
   "pygments_lexer": "ipython3",
   "version": "3.6.9"
  }
 },
 "nbformat": 4,
 "nbformat_minor": 4
}
